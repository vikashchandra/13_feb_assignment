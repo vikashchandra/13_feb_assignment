{
 "cells": [
  {
   "cell_type": "code",
   "execution_count": null,
   "id": "0325c7c4-86fa-484a-8926-c8aa98ca19e9",
   "metadata": {},
   "outputs": [],
   "source": [
    "\"\"\"\n",
    "Q.1. Explain why we have to use the Exception class while \n",
    "creating a Custom Exception.\n",
    "\n",
    "solution:\n",
    "\n",
    "In object-oriented programming languages like Java, Python, and \n",
    "many others, exceptions are used to handle runtime errors or\n",
    "exceptional situations that may occur during the execution of \n",
    "a program. These exceptions can be categorized into two main\n",
    "types:\n",
    "\n",
    "Built-in Exceptions: These are exceptions provided by the\n",
    "programming language or its standard libraries to handle \n",
    "common error scenarios. Examples include NullPointerException \n",
    "in Java or ZeroDivisionError in Python.\n",
    "\n",
    "Custom Exceptions: These are exceptions that you create yourself\n",
    "to represent specific error conditions that are unique to your\n",
    "application or domain. You derive custom exceptions from a base\n",
    "class, typically called Exception (or a related class, depending\n",
    "on the language), to create a hierarchy of exception types that\n",
    "makes it easier to handle and differentiate different error \n",
    "scenarios in your code.\n",
    "\n",
    "Here's why you should use the Exception class (or its equivalent) \n",
    "when creating custom exceptions:\n",
    "\n",
    "Consistency and Clarity: By inheriting from the base Exception \n",
    "class, your custom exception is consistent with the built-in \n",
    "exception hierarchy of the programming language. This makes it\n",
    "easier for other developers to understand how your custom \n",
    "exception fits into the broader exception framework.\n",
    "\n",
    "Catching Specific Exceptions: When you throw custom exceptions,\n",
    "it allows you to catch and handle them separately from other\n",
    "exceptions. You can use try-catch blocks to catch specific types\n",
    "of exceptions and handle them appropriately. For example:\n",
    "\n",
    "\"\"\""
   ]
  },
  {
   "cell_type": "code",
   "execution_count": null,
   "id": "959c18c8-64c8-4572-9ea4-6792eb2bfc27",
   "metadata": {},
   "outputs": [],
   "source": [
    "\n",
    "try:\n",
    "    # Code that may raise a custom exception\n",
    "except CustomException as e:\n",
    "    # Handle the custom exception\n",
    "except AnotherException as e:\n",
    "    # Handle a different exception"
   ]
  },
  {
   "cell_type": "code",
   "execution_count": null,
   "id": "91831d25-fe29-4717-99db-d974af7967f3",
   "metadata": {},
   "outputs": [],
   "source": [
    "\"\"\"\n",
    "This way, you can have specialized error-handling logic for\n",
    "different types of exceptions, improving the robustness of your\n",
    "code.\n",
    "\n",
    "Documentation: Creating custom exceptions with meaningful\n",
    "names and descriptions helps document the specific error\n",
    "conditions that can arise in your code. This documentation \n",
    "can be valuable for you and other developers who work with\n",
    "your codebase.\n",
    "\n",
    "Readability and Maintainability: Using custom exceptions with \n",
    "clear names can make your code more readable and maintainable.\n",
    "When someone reads your code, they can quickly understand the \n",
    "intent and reason behind throwing a particular exception.\n",
    "\n",
    "Testing and Debugging: Custom exceptions can facilitate unit\n",
    "testing and debugging. You can write test cases that specifically\n",
    "target the custom exception scenarios, making it easier to \n",
    "verify that your code handles these situations correctly.\n",
    "\"\"\""
   ]
  }
 ],
 "metadata": {
  "kernelspec": {
   "display_name": "Python 3 (ipykernel)",
   "language": "python",
   "name": "python3"
  },
  "language_info": {
   "codemirror_mode": {
    "name": "ipython",
    "version": 3
   },
   "file_extension": ".py",
   "mimetype": "text/x-python",
   "name": "python",
   "nbconvert_exporter": "python",
   "pygments_lexer": "ipython3",
   "version": "3.10.8"
  }
 },
 "nbformat": 4,
 "nbformat_minor": 5
}
