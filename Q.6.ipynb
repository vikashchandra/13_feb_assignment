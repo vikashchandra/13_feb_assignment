{
 "cells": [
  {
   "cell_type": "code",
   "execution_count": 3,
   "id": "d9239abd-d71e-4f94-b60d-fe384d7dbe2d",
   "metadata": {},
   "outputs": [
    {
     "ename": "IndentationError",
     "evalue": "expected an indented block after 'try' statement on line 16 (2857002503.py, line 18)",
     "output_type": "error",
     "traceback": [
      "\u001b[0;36m  Cell \u001b[0;32mIn[3], line 18\u001b[0;36m\u001b[0m\n\u001b[0;31m    except SpecificException as e:\u001b[0m\n\u001b[0m    ^\u001b[0m\n\u001b[0;31mIndentationError\u001b[0m\u001b[0;31m:\u001b[0m expected an indented block after 'try' statement on line 16\n"
     ]
    }
   ],
   "source": [
    "\"\"\"\n",
    "Q.6.  List down some best practices for exception handling in \n",
    "python.\n",
    "\n",
    "solution:\n",
    "\n",
    "Exception handling is an essential aspect of writing robust \n",
    "and maintainable Python code. Here are some best practices \n",
    "for exception handling in Python:\n",
    "\n",
    "1. Use Specific Exceptions: Catch specific exceptions \n",
    "rather than catching a generic Exception whenever possible.\n",
    "This allows you to handle different types of errors differently \n",
    "and makes your code more robust.\n",
    "\"\"\"\n",
    "try:\n",
    "    # Code that may raise a specific exception\n",
    "except SpecificException as e:\n",
    "    # Handle the specific exception\n"
   ]
  },
  {
   "cell_type": "code",
   "execution_count": 4,
   "id": "4232536c-1c78-4909-b5c3-cff32cb524fb",
   "metadata": {},
   "outputs": [
    {
     "ename": "IndentationError",
     "evalue": "expected an indented block after 'try' statement on line 9 (836742837.py, line 11)",
     "output_type": "error",
     "traceback": [
      "\u001b[0;36m  Cell \u001b[0;32mIn[4], line 11\u001b[0;36m\u001b[0m\n\u001b[0;31m    except:\u001b[0m\n\u001b[0m    ^\u001b[0m\n\u001b[0;31mIndentationError\u001b[0m\u001b[0;31m:\u001b[0m expected an indented block after 'try' statement on line 9\n"
     ]
    }
   ],
   "source": [
    "\"\"\"\n",
    "2. Avoid Bare except: Avoid using bare except statements\n",
    "(i.e., without specifying an exception type). It makes it\n",
    "harder to diagnose and handle exceptions properly, as it\n",
    "catches all exceptions, including ones you may not have \n",
    "anticipated.\n",
    "\n",
    "\"\"\"\n",
    "try:\n",
    "    # Code that may raise an exception\n",
    "except:\n",
    "    # Handle the exception (avoid this)\n"
   ]
  },
  {
   "cell_type": "code",
   "execution_count": 5,
   "id": "bb6bae1b-7005-4f3b-a606-64e07bb11407",
   "metadata": {},
   "outputs": [
    {
     "ename": "IndentationError",
     "evalue": "expected an indented block after 'try' statement on line 8 (3433145659.py, line 10)",
     "output_type": "error",
     "traceback": [
      "\u001b[0;36m  Cell \u001b[0;32mIn[5], line 10\u001b[0;36m\u001b[0m\n\u001b[0;31m    except SpecificException as e:\u001b[0m\n\u001b[0m    ^\u001b[0m\n\u001b[0;31mIndentationError\u001b[0m\u001b[0;31m:\u001b[0m expected an indented block after 'try' statement on line 8\n"
     ]
    }
   ],
   "source": [
    "\"\"\"\n",
    "3. Use finally: When necessary, use the finally block to \n",
    "ensure that cleanup code (e.g., closing files or network\n",
    "connections) is executed, regardless of whether an exception\n",
    "was raised.\n",
    "\n",
    "\"\"\"\n",
    "try:\n",
    "    # Code that may raise an exception\n",
    "except SpecificException as e:\n",
    "    # Handle the specific exception\n",
    "finally:\n",
    "    # Cleanup code\n"
   ]
  },
  {
   "cell_type": "code",
   "execution_count": 6,
   "id": "70406ee8-5032-4737-9101-f5e92b766692",
   "metadata": {},
   "outputs": [],
   "source": [
    "\"\"\"\n",
    "4. Handle Exceptions Where They Occur: Handle exceptions as\n",
    "close to the point where they occur as possible. This makes \n",
    "your code more readable and helps pinpoint the cause of the\n",
    "error.\n",
    "\n",
    "5. Avoid Excessive Nesting: Don't nest too many try/except\n",
    "blocks within each other. Deeply nested exception handling\n",
    "can make the code hard to read and maintain.\n",
    "\n",
    "6. Logging: Use Python's logging module to log information\n",
    "about exceptions. It helps in debugging and diagnosing issues \n",
    "in production environments.\n",
    "\n",
    "7. Custom Exceptions: Define custom exception classes for\n",
    "your application when appropriate. This allows you to create \n",
    "more meaningful and descriptive error messages and makes it\n",
    "easier to handle specific application-level errors.\n",
    "\n",
    "\"\"\"\n",
    "class CustomError(Exception):\n",
    "    def __init__(self, message):\n",
    "        self.message = message\n",
    "        super().__init__(self.message)\n"
   ]
  },
  {
   "cell_type": "code",
   "execution_count": 7,
   "id": "4d1c07f3-89b2-4660-a40a-b84461913a70",
   "metadata": {},
   "outputs": [
    {
     "ename": "IndentationError",
     "evalue": "expected an indented block after 'try' statement on line 8 (3505479964.py, line 10)",
     "output_type": "error",
     "traceback": [
      "\u001b[0;36m  Cell \u001b[0;32mIn[7], line 10\u001b[0;36m\u001b[0m\n\u001b[0;31m    except SpecificException as e:\u001b[0m\n\u001b[0m    ^\u001b[0m\n\u001b[0;31mIndentationError\u001b[0m\u001b[0;31m:\u001b[0m expected an indented block after 'try' statement on line 8\n"
     ]
    }
   ],
   "source": [
    "\"\"\"\n",
    "8. Reraise Exceptions Sparingly: Avoid reraising exceptions\n",
    "unless you have a good reason to do so. Reraising should be\n",
    "reserved for cases where you need to perform additional \n",
    "actions or logging before letting the exception propagate.\n",
    "\n",
    "\"\"\"\n",
    "try:\n",
    "    # Code that may raise an exception\n",
    "except SpecificException as e:\n",
    "    # Handle the exception\n",
    "    # Perform additional actions\n",
    "    raise  # Reraise the exception\n"
   ]
  },
  {
   "cell_type": "code",
   "execution_count": null,
   "id": "7e89c6b0-55de-49fc-a986-ac3a138316ac",
   "metadata": {},
   "outputs": [],
   "source": [
    "\"\"\"\n",
    "9. Use with Statements: When working with resources like\n",
    "files or database connections, use context managers\n",
    "(with statements) to ensure proper cleanup. These will \n",
    "automatically handle exceptions and cleanup resources.\n",
    "\"\"\"\n",
    "with open(\"file.txt\", \"r\") as file:\n",
    "    # Code that works with the file\n"
   ]
  },
  {
   "cell_type": "code",
   "execution_count": null,
   "id": "e33b7361-149c-4733-8f15-bfd940cb0fba",
   "metadata": {},
   "outputs": [],
   "source": [
    "\"\"\"\n",
    "10. Documentation: Document your exceptions and their expected\n",
    "behavior, especially when creating custom exception classes.\n",
    "Good documentation helps other developers understand how to \n",
    "handle exceptions in your code.\n",
    "\n",
    "11. Testing: Write unit tests that cover different exception \n",
    "scenarios in your code. This helps ensure that your exception\n",
    "handling works as expected and provides good test coverage.\n",
    "\"\"\""
   ]
  }
 ],
 "metadata": {
  "kernelspec": {
   "display_name": "Python 3 (ipykernel)",
   "language": "python",
   "name": "python3"
  },
  "language_info": {
   "codemirror_mode": {
    "name": "ipython",
    "version": 3
   },
   "file_extension": ".py",
   "mimetype": "text/x-python",
   "name": "python",
   "nbconvert_exporter": "python",
   "pygments_lexer": "ipython3",
   "version": "3.10.8"
  }
 },
 "nbformat": 4,
 "nbformat_minor": 5
}
