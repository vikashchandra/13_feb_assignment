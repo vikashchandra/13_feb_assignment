{
 "cells": [
  {
   "cell_type": "code",
   "execution_count": null,
   "id": "247e33c0-bd42-4d9d-b219-a6ca0e19597f",
   "metadata": {},
   "outputs": [],
   "source": [
    "\"\"\"\n",
    "Q.4. Why LookupError class is used? Explain with an example \n",
    "KeyError and IndexError.\n",
    "\n",
    "solution:\n",
    "\n",
    "LookupError is a base class in Python used to indicate errors\n",
    "related to looking up values or items in sequences, \n",
    "dictionaries, or other collections. It serves as a general \n",
    "category for exceptions that occur when you try to access a \n",
    "non-existent item or element in a data structure. Two common \n",
    "subclasses of LookupError are KeyError and IndexError, which \n",
    "are used for specific types of lookup failures.\n",
    "\n",
    "KeyError: KeyError is raised when you try to access a\n",
    "dictionary using a key that does not exist in the dictionary.\n",
    "Example:\n",
    "\"\"\"\n"
   ]
  },
  {
   "cell_type": "code",
   "execution_count": 1,
   "id": "23e826fe-3ee7-48d5-b06d-72107ef282cf",
   "metadata": {},
   "outputs": [
    {
     "name": "stdout",
     "output_type": "stream",
     "text": [
      "KeyError: 'orange'\n"
     ]
    }
   ],
   "source": [
    "my_dict = {'apple': 5, 'banana': 3, 'cherry': 8}\n",
    "\n",
    "try:\n",
    "    value = my_dict['orange']  # 'orange' is not a key in the dictionary\n",
    "except KeyError as e:\n",
    "    print(f\"KeyError: {e}\")\n"
   ]
  },
  {
   "cell_type": "code",
   "execution_count": 2,
   "id": "10ca3d91-1155-4386-9ffa-f735582991d4",
   "metadata": {},
   "outputs": [
    {
     "name": "stdout",
     "output_type": "stream",
     "text": [
      "IndexError: list index out of range\n"
     ]
    }
   ],
   "source": [
    "\"\"\"\n",
    "In this example, a KeyError is raised because the key 'orange'\n",
    "does not exist in the dictionary my_dict.\n",
    "\n",
    "IndexError: IndexError is raised when you try to access an \n",
    "element in a sequence (like a list or a tuple) using an\n",
    "index that is out of range.\n",
    "Example:\n",
    "\"\"\"\n",
    "my_list = [1, 2, 3, 4, 5]\n",
    "\n",
    "try:\n",
    "    value = my_list[10]  # Index 10 is out of range for the list\n",
    "except IndexError as e:\n",
    "    print(f\"IndexError: {e}\")"
   ]
  },
  {
   "cell_type": "code",
   "execution_count": null,
   "id": "c5ca9b68-9009-40c5-a025-b08d4002be6c",
   "metadata": {},
   "outputs": [],
   "source": []
  }
 ],
 "metadata": {
  "kernelspec": {
   "display_name": "Python 3 (ipykernel)",
   "language": "python",
   "name": "python3"
  },
  "language_info": {
   "codemirror_mode": {
    "name": "ipython",
    "version": 3
   },
   "file_extension": ".py",
   "mimetype": "text/x-python",
   "name": "python",
   "nbconvert_exporter": "python",
   "pygments_lexer": "ipython3",
   "version": "3.10.8"
  }
 },
 "nbformat": 4,
 "nbformat_minor": 5
}
