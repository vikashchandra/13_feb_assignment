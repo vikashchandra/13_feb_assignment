{
 "cells": [
  {
   "cell_type": "code",
   "execution_count": null,
   "id": "58395b92-6a60-4872-a990-6a5f37cf9ead",
   "metadata": {},
   "outputs": [],
   "source": [
    "\"\"\"\n",
    "Q.3. What errors are defined in the ArithmeticError class?\n",
    "Explain any two with an example.\n",
    "\n",
    "Solution:\n",
    "\n",
    "The ArithmeticError class is a base class for exceptions that\n",
    "occur during arithmetic operations in Python. It is a subclass \n",
    "of the Exception class and is used as a base class for a variety\n",
    "of arithmetic-related exception classes. Two commonly\n",
    "encountered exceptions derived from ArithmeticError are \n",
    "ZeroDivisionError and OverflowError.\n",
    "\n",
    "ZeroDivisionError:\n",
    "\n",
    "This exception is raised when you try to divide a number\n",
    "by zero, which is mathematically undefined.\n",
    "Example:\n",
    "\"\"\""
   ]
  },
  {
   "cell_type": "code",
   "execution_count": 1,
   "id": "757ca41c-cd6e-4daa-9d47-45b265ad1ab9",
   "metadata": {},
   "outputs": [
    {
     "name": "stdout",
     "output_type": "stream",
     "text": [
      "Error: division by zero\n"
     ]
    }
   ],
   "source": [
    "\n",
    "try:\n",
    "    result = 5 / 0\n",
    "except ZeroDivisionError as e:\n",
    "    print(\"Error:\", e)\n"
   ]
  },
  {
   "cell_type": "code",
   "execution_count": 2,
   "id": "0a521e38-f9a1-42e6-ad38-9180b366421a",
   "metadata": {},
   "outputs": [],
   "source": [
    "\"\"\"\n",
    "In this example, trying to divide 5 by 0 raises a \n",
    "ZeroDivisionError, which is caught by the except block, \n",
    "and the error message \"division by zero\" is printed.\n",
    "\n",
    "OverflowError:\n",
    "This exception is raised when an arithmetic operation results \n",
    "in a number that is too large to be represented by the\n",
    "computer's hardware.\n",
    "Example:\n",
    "\"\"\"\n",
    "try:\n",
    "    result = 10 ** 1000\n",
    "except OverflowError as e:\n",
    "    print(\"Error:\", e)"
   ]
  },
  {
   "cell_type": "code",
   "execution_count": null,
   "id": "4adba429-9a0e-45fc-8898-fd107fac07ad",
   "metadata": {},
   "outputs": [],
   "source": []
  }
 ],
 "metadata": {
  "kernelspec": {
   "display_name": "Python 3 (ipykernel)",
   "language": "python",
   "name": "python3"
  },
  "language_info": {
   "codemirror_mode": {
    "name": "ipython",
    "version": 3
   },
   "file_extension": ".py",
   "mimetype": "text/x-python",
   "name": "python",
   "nbconvert_exporter": "python",
   "pygments_lexer": "ipython3",
   "version": "3.10.8"
  }
 },
 "nbformat": 4,
 "nbformat_minor": 5
}
