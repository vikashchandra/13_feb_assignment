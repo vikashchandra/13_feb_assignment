{
 "cells": [
  {
   "cell_type": "code",
   "execution_count": null,
   "id": "d8cbf89e-0d5d-4119-8238-03d0fdabb516",
   "metadata": {},
   "outputs": [],
   "source": [
    "\"\"\"\n",
    "Q.5. Explain ImportError. What is ModuleNotFoundError?\n",
    "\n",
    "solution:\n",
    "\n",
    "ImportError and ModuleNotFoundError are both exceptions in \n",
    "Python that occur when there is a problem with importing a\n",
    "module or a package. They are often encountered when you \n",
    "attempt to import a module or package that does not exist or \n",
    "cannot be found. However, there are some differences between\n",
    "these two exceptions.\n",
    "\n",
    "ImportError: ImportError is a more general exception that can\n",
    "occur for various reasons when importing a module.\n",
    "It can be raised for issues like circular imports, syntax \n",
    "errors within the module being imported, or when the imported\n",
    "module raises an exception during its initialization.\n",
    "\n",
    "ImportError can also occur if you try to import a module \n",
    "that exists but has an issue preventing it from being \n",
    "imported successfully.\n",
    "\n",
    "Here's an example of an ImportError:\n",
    "\"\"\""
   ]
  },
  {
   "cell_type": "code",
   "execution_count": 1,
   "id": "63aa3291-a879-433f-9cf9-de5930a71955",
   "metadata": {},
   "outputs": [
    {
     "name": "stdout",
     "output_type": "stream",
     "text": [
      "ImportError: No module named 'non_existent_module'\n"
     ]
    }
   ],
   "source": [
    "\n",
    "try:\n",
    "    import non_existent_module\n",
    "except ImportError as e:\n",
    "    print(f\"ImportError: {e}\")\n"
   ]
  },
  {
   "cell_type": "code",
   "execution_count": null,
   "id": "ad3b505f-d473-4865-bee2-01729a97b26e",
   "metadata": {},
   "outputs": [],
   "source": [
    "\"\"\"\n",
    "ModuleNotFoundError:\n",
    "ModuleNotFoundError is a more specific exception introduced \n",
    "in Python 3.6.\n",
    "It is raised when Python cannot find the specified module \n",
    "or package in any of the directories listed in the sys.path\n",
    "variable. This is typically because the module simply doesn't \n",
    "exist in any of the directories included in the Python path.\n",
    "\n",
    "ModuleNotFoundError is more informative than ImportError in \n",
    "cases where the issue is related to the absence of the module.\n",
    "Here's an example of a ModuleNotFoundError:\n",
    "\"\"\"\n",
    "try:\n",
    "    import non_existent_module\n",
    "except ModuleNotFoundError as e:\n",
    "    print(f\"ModuleNotFoundError: {e}\")\n",
    "    \n",
    "\"\"\"   \n",
    "In both cases, you should examine the error message to \n",
    "understand why the import failed. It will usually provide\n",
    "information about which module or package could not be\n",
    "imported and the reason for the failure, such as a missing \n",
    "file, a typo in the module name, or a problem with the \n",
    "module's code.\n",
    "\"\"\""
   ]
  },
  {
   "cell_type": "code",
   "execution_count": null,
   "id": "769e6bb9-e1e7-4236-9536-8d3427fcf86e",
   "metadata": {},
   "outputs": [],
   "source": []
  }
 ],
 "metadata": {
  "kernelspec": {
   "display_name": "Python 3 (ipykernel)",
   "language": "python",
   "name": "python3"
  },
  "language_info": {
   "codemirror_mode": {
    "name": "ipython",
    "version": 3
   },
   "file_extension": ".py",
   "mimetype": "text/x-python",
   "name": "python",
   "nbconvert_exporter": "python",
   "pygments_lexer": "ipython3",
   "version": "3.10.8"
  }
 },
 "nbformat": 4,
 "nbformat_minor": 5
}
