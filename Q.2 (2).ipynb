{
 "cells": [
  {
   "cell_type": "code",
   "execution_count": 1,
   "id": "b7c2382e-0d75-4b27-833a-5b43fd92923d",
   "metadata": {},
   "outputs": [
    {
     "name": "stdout",
     "output_type": "stream",
     "text": [
      "Python Exception Hierarchy:\n",
      "BaseException\n",
      "  object\n"
     ]
    }
   ],
   "source": [
    "\"\"\"\n",
    "Q.2. Write a python program to print Python Exception Hierarchy.\n",
    "\n",
    "solution:\n",
    "\n",
    "You can print the Python exception hierarchy by iterating \n",
    "through the built-in exception classes and their parent classes.\n",
    "Here's a Python program that does that:\n",
    "\"\"\"\n",
    "\n",
    "def print_exception_hierarchy(exception_class, indent=0):\n",
    "    print('  ' * indent + exception_class.__name__)\n",
    "    for base_class in exception_class.__bases__:\n",
    "        print_exception_hierarchy(base_class, indent + 1)\n",
    "\n",
    "if __name__ == \"__main__\":\n",
    "    print(\"Python Exception Hierarchy:\")\n",
    "    print_exception_hierarchy(BaseException)"
   ]
  },
  {
   "cell_type": "code",
   "execution_count": null,
   "id": "073b00a3-c8a3-4850-b41e-743ce9035df5",
   "metadata": {},
   "outputs": [],
   "source": []
  }
 ],
 "metadata": {
  "kernelspec": {
   "display_name": "Python 3 (ipykernel)",
   "language": "python",
   "name": "python3"
  },
  "language_info": {
   "codemirror_mode": {
    "name": "ipython",
    "version": 3
   },
   "file_extension": ".py",
   "mimetype": "text/x-python",
   "name": "python",
   "nbconvert_exporter": "python",
   "pygments_lexer": "ipython3",
   "version": "3.10.8"
  }
 },
 "nbformat": 4,
 "nbformat_minor": 5
}
